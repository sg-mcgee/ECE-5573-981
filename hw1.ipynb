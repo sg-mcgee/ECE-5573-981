{
  "cells": [
    {
      "cell_type": "code",
      "execution_count": 1,
      "id": "a4563bef-0a5c-44c6-a16b-f20976d45a82",
      "metadata": {
        "id": "a4563bef-0a5c-44c6-a16b-f20976d45a82",
        "outputId": "83e09053-7bf0-4e31-9e7a-96f652a521cd",
        "colab": {
          "base_uri": "https://localhost:8080/"
        }
      },
      "outputs": [
        {
          "output_type": "stream",
          "name": "stdout",
          "text": [
            "Requirement already satisfied: yfinance in /usr/local/lib/python3.11/dist-packages (0.2.52)\n",
            "Requirement already satisfied: pandas>=1.3.0 in /usr/local/lib/python3.11/dist-packages (from yfinance) (2.2.2)\n",
            "Requirement already satisfied: numpy>=1.16.5 in /usr/local/lib/python3.11/dist-packages (from yfinance) (1.26.4)\n",
            "Requirement already satisfied: requests>=2.31 in /usr/local/lib/python3.11/dist-packages (from yfinance) (2.32.3)\n",
            "Requirement already satisfied: multitasking>=0.0.7 in /usr/local/lib/python3.11/dist-packages (from yfinance) (0.0.11)\n",
            "Requirement already satisfied: lxml>=4.9.1 in /usr/local/lib/python3.11/dist-packages (from yfinance) (5.3.1)\n",
            "Requirement already satisfied: platformdirs>=2.0.0 in /usr/local/lib/python3.11/dist-packages (from yfinance) (4.3.6)\n",
            "Requirement already satisfied: pytz>=2022.5 in /usr/local/lib/python3.11/dist-packages (from yfinance) (2025.1)\n",
            "Requirement already satisfied: frozendict>=2.3.4 in /usr/local/lib/python3.11/dist-packages (from yfinance) (2.4.6)\n",
            "Requirement already satisfied: peewee>=3.16.2 in /usr/local/lib/python3.11/dist-packages (from yfinance) (3.17.9)\n",
            "Requirement already satisfied: beautifulsoup4>=4.11.1 in /usr/local/lib/python3.11/dist-packages (from yfinance) (4.13.3)\n",
            "Requirement already satisfied: html5lib>=1.1 in /usr/local/lib/python3.11/dist-packages (from yfinance) (1.1)\n",
            "Requirement already satisfied: soupsieve>1.2 in /usr/local/lib/python3.11/dist-packages (from beautifulsoup4>=4.11.1->yfinance) (2.6)\n",
            "Requirement already satisfied: typing-extensions>=4.0.0 in /usr/local/lib/python3.11/dist-packages (from beautifulsoup4>=4.11.1->yfinance) (4.12.2)\n",
            "Requirement already satisfied: six>=1.9 in /usr/local/lib/python3.11/dist-packages (from html5lib>=1.1->yfinance) (1.17.0)\n",
            "Requirement already satisfied: webencodings in /usr/local/lib/python3.11/dist-packages (from html5lib>=1.1->yfinance) (0.5.1)\n",
            "Requirement already satisfied: python-dateutil>=2.8.2 in /usr/local/lib/python3.11/dist-packages (from pandas>=1.3.0->yfinance) (2.8.2)\n",
            "Requirement already satisfied: tzdata>=2022.7 in /usr/local/lib/python3.11/dist-packages (from pandas>=1.3.0->yfinance) (2025.1)\n",
            "Requirement already satisfied: charset-normalizer<4,>=2 in /usr/local/lib/python3.11/dist-packages (from requests>=2.31->yfinance) (3.4.1)\n",
            "Requirement already satisfied: idna<4,>=2.5 in /usr/local/lib/python3.11/dist-packages (from requests>=2.31->yfinance) (3.10)\n",
            "Requirement already satisfied: urllib3<3,>=1.21.1 in /usr/local/lib/python3.11/dist-packages (from requests>=2.31->yfinance) (2.3.0)\n",
            "Requirement already satisfied: certifi>=2017.4.17 in /usr/local/lib/python3.11/dist-packages (from requests>=2.31->yfinance) (2025.1.31)\n",
            "Requirement already satisfied: pandas in /usr/local/lib/python3.11/dist-packages (2.2.2)\n",
            "Requirement already satisfied: numpy>=1.23.2 in /usr/local/lib/python3.11/dist-packages (from pandas) (1.26.4)\n",
            "Requirement already satisfied: python-dateutil>=2.8.2 in /usr/local/lib/python3.11/dist-packages (from pandas) (2.8.2)\n",
            "Requirement already satisfied: pytz>=2020.1 in /usr/local/lib/python3.11/dist-packages (from pandas) (2025.1)\n",
            "Requirement already satisfied: tzdata>=2022.7 in /usr/local/lib/python3.11/dist-packages (from pandas) (2025.1)\n",
            "Requirement already satisfied: six>=1.5 in /usr/local/lib/python3.11/dist-packages (from python-dateutil>=2.8.2->pandas) (1.17.0)\n"
          ]
        }
      ],
      "source": [
        "!pip install yfinance # uncomment these to install missing packages if they are not already installed\n",
        "!pip install pandas"
      ]
    },
    {
      "cell_type": "code",
      "source": [
        "!git remote add origin https://github.com/sg-mcgee/ECE-5573-981.git\n",
        "!git branch -M main\n",
        "!git push -u origin main"
      ],
      "metadata": {
        "id": "0FPry1K383Qt",
        "outputId": "d7d7c9b4-e458-44c5-915c-b009c62bface",
        "colab": {
          "base_uri": "https://localhost:8080/"
        }
      },
      "id": "0FPry1K383Qt",
      "execution_count": 2,
      "outputs": [
        {
          "output_type": "stream",
          "name": "stdout",
          "text": [
            "fatal: not a git repository (or any of the parent directories): .git\n",
            "fatal: not a git repository (or any of the parent directories): .git\n",
            "fatal: not a git repository (or any of the parent directories): .git\n"
          ]
        }
      ]
    },
    {
      "cell_type": "code",
      "execution_count": null,
      "id": "33c9d138-5310-47f8-b2cd-1a28f97c4fb4",
      "metadata": {
        "id": "33c9d138-5310-47f8-b2cd-1a28f97c4fb4"
      },
      "outputs": [],
      "source": [
        "import yfinance as yf\n",
        "import pandas as pd\n",
        "\n",
        "def get_price(tick,start='2022-10-01',end=None):\n",
        "    return yf.Ticker(tick).history(start=start,end=end)['Close']\n",
        "\n",
        "def get_prices(tickers,start='2022-10-01',end=None):\n",
        "    df=pd.DataFrame()\n",
        "    for s in tickers:\n",
        "        df[s]=get_price(s,start,end)\n",
        "    return df"
      ]
    },
    {
      "cell_type": "markdown",
      "id": "quick-cartoon",
      "metadata": {
        "id": "quick-cartoon"
      },
      "source": [
        "# Prepare training and testing data sets"
      ]
    },
    {
      "cell_type": "code",
      "execution_count": null,
      "id": "designed-storm",
      "metadata": {
        "id": "designed-storm"
      },
      "outputs": [],
      "source": [
        "feature_stocks=['tsla','meta','goog','amzn','nflx','gbtc','gdx','intc','dal','c']\n",
        "predict_stock='msft'\n",
        "\n",
        "# training set\n",
        "start_date_train='2023-1-01'\n",
        "end_date_train='2024-6-30'\n",
        "\n",
        "X_train=get_prices(feature_stocks,start=start_date_train,end=end_date_train)\n",
        "y_train=get_prices([predict_stock],start=start_date_train,end=end_date_train)\n",
        "\n",
        "# testing set\n",
        "start_date_test='2024-11-01'\n",
        "end_date_test='2024-12-31'\n",
        "X_test=get_prices(feature_stocks,start=start_date_test,end=end_date_test)\n",
        "y_test=get_prices([predict_stock],start=start_date_test,end=end_date_test)"
      ]
    },
    {
      "cell_type": "code",
      "execution_count": null,
      "id": "former-sodium",
      "metadata": {
        "id": "former-sodium",
        "outputId": "591615a5-5b3c-47c8-ff1b-7fdac5e9a953"
      },
      "outputs": [
        {
          "data": {
            "text/html": [
              "<div>\n",
              "<style scoped>\n",
              "    .dataframe tbody tr th:only-of-type {\n",
              "        vertical-align: middle;\n",
              "    }\n",
              "\n",
              "    .dataframe tbody tr th {\n",
              "        vertical-align: top;\n",
              "    }\n",
              "\n",
              "    .dataframe thead th {\n",
              "        text-align: right;\n",
              "    }\n",
              "</style>\n",
              "<table border=\"1\" class=\"dataframe\">\n",
              "  <thead>\n",
              "    <tr style=\"text-align: right;\">\n",
              "      <th></th>\n",
              "      <th>tsla</th>\n",
              "      <th>meta</th>\n",
              "      <th>goog</th>\n",
              "      <th>amzn</th>\n",
              "      <th>nflx</th>\n",
              "      <th>gbtc</th>\n",
              "      <th>gdx</th>\n",
              "      <th>intc</th>\n",
              "      <th>dal</th>\n",
              "      <th>c</th>\n",
              "    </tr>\n",
              "    <tr>\n",
              "      <th>Date</th>\n",
              "      <th></th>\n",
              "      <th></th>\n",
              "      <th></th>\n",
              "      <th></th>\n",
              "      <th></th>\n",
              "      <th></th>\n",
              "      <th></th>\n",
              "      <th></th>\n",
              "      <th></th>\n",
              "      <th></th>\n",
              "    </tr>\n",
              "  </thead>\n",
              "  <tbody>\n",
              "    <tr>\n",
              "      <th>2023-01-03 00:00:00-05:00</th>\n",
              "      <td>108.099998</td>\n",
              "      <td>124.265312</td>\n",
              "      <td>89.378853</td>\n",
              "      <td>85.820000</td>\n",
              "      <td>294.950012</td>\n",
              "      <td>8.200000</td>\n",
              "      <td>28.842234</td>\n",
              "      <td>25.775145</td>\n",
              "      <td>32.105251</td>\n",
              "      <td>42.188187</td>\n",
              "    </tr>\n",
              "    <tr>\n",
              "      <th>2023-01-04 00:00:00-05:00</th>\n",
              "      <td>113.639999</td>\n",
              "      <td>126.885307</td>\n",
              "      <td>88.392395</td>\n",
              "      <td>85.139999</td>\n",
              "      <td>309.410004</td>\n",
              "      <td>8.380000</td>\n",
              "      <td>30.067492</td>\n",
              "      <td>26.691208</td>\n",
              "      <td>33.857693</td>\n",
              "      <td>43.275604</td>\n",
              "    </tr>\n",
              "    <tr>\n",
              "      <th>2023-01-05 00:00:00-05:00</th>\n",
              "      <td>110.339996</td>\n",
              "      <td>126.456940</td>\n",
              "      <td>86.459343</td>\n",
              "      <td>83.120003</td>\n",
              "      <td>309.700012</td>\n",
              "      <td>8.450000</td>\n",
              "      <td>29.804937</td>\n",
              "      <td>26.575495</td>\n",
              "      <td>34.684696</td>\n",
              "      <td>43.082088</td>\n",
              "    </tr>\n",
              "    <tr>\n",
              "      <th>2023-01-06 00:00:00-05:00</th>\n",
              "      <td>113.059998</td>\n",
              "      <td>129.525223</td>\n",
              "      <td>87.844376</td>\n",
              "      <td>86.080002</td>\n",
              "      <td>315.549988</td>\n",
              "      <td>8.650000</td>\n",
              "      <td>30.689848</td>\n",
              "      <td>27.703703</td>\n",
              "      <td>35.472313</td>\n",
              "      <td>43.598145</td>\n",
              "    </tr>\n",
              "    <tr>\n",
              "      <th>2023-01-09 00:00:00-05:00</th>\n",
              "      <td>119.769997</td>\n",
              "      <td>128.977310</td>\n",
              "      <td>88.482086</td>\n",
              "      <td>87.360001</td>\n",
              "      <td>315.170013</td>\n",
              "      <td>9.650000</td>\n",
              "      <td>30.398119</td>\n",
              "      <td>28.262983</td>\n",
              "      <td>36.200859</td>\n",
              "      <td>43.810101</td>\n",
              "    </tr>\n",
              "    <tr>\n",
              "      <th>...</th>\n",
              "      <td>...</td>\n",
              "      <td>...</td>\n",
              "      <td>...</td>\n",
              "      <td>...</td>\n",
              "      <td>...</td>\n",
              "      <td>...</td>\n",
              "      <td>...</td>\n",
              "      <td>...</td>\n",
              "      <td>...</td>\n",
              "      <td>...</td>\n",
              "    </tr>\n",
              "    <tr>\n",
              "      <th>2024-06-24 00:00:00-04:00</th>\n",
              "      <td>182.580002</td>\n",
              "      <td>498.032776</td>\n",
              "      <td>180.347717</td>\n",
              "      <td>185.570007</td>\n",
              "      <td>669.020020</td>\n",
              "      <td>52.610001</td>\n",
              "      <td>33.852570</td>\n",
              "      <td>30.377298</td>\n",
              "      <td>49.083549</td>\n",
              "      <td>60.221382</td>\n",
              "    </tr>\n",
              "    <tr>\n",
              "      <th>2024-06-25 00:00:00-04:00</th>\n",
              "      <td>187.350006</td>\n",
              "      <td>509.702240</td>\n",
              "      <td>185.126007</td>\n",
              "      <td>186.339996</td>\n",
              "      <td>672.409973</td>\n",
              "      <td>55.020000</td>\n",
              "      <td>33.447327</td>\n",
              "      <td>30.546227</td>\n",
              "      <td>48.497330</td>\n",
              "      <td>60.457005</td>\n",
              "    </tr>\n",
              "    <tr>\n",
              "      <th>2024-06-26 00:00:00-04:00</th>\n",
              "      <td>196.369995</td>\n",
              "      <td>512.217773</td>\n",
              "      <td>184.916504</td>\n",
              "      <td>193.610001</td>\n",
              "      <td>677.690002</td>\n",
              "      <td>54.130001</td>\n",
              "      <td>33.427559</td>\n",
              "      <td>30.347488</td>\n",
              "      <td>47.871361</td>\n",
              "      <td>60.133022</td>\n",
              "    </tr>\n",
              "    <tr>\n",
              "      <th>2024-06-27 00:00:00-04:00</th>\n",
              "      <td>197.419998</td>\n",
              "      <td>518.646423</td>\n",
              "      <td>186.402878</td>\n",
              "      <td>197.850006</td>\n",
              "      <td>684.340027</td>\n",
              "      <td>54.520000</td>\n",
              "      <td>33.832802</td>\n",
              "      <td>30.397173</td>\n",
              "      <td>48.288670</td>\n",
              "      <td>60.427547</td>\n",
              "    </tr>\n",
              "    <tr>\n",
              "      <th>2024-06-28 00:00:00-04:00</th>\n",
              "      <td>197.880005</td>\n",
              "      <td>503.333435</td>\n",
              "      <td>182.971283</td>\n",
              "      <td>193.250000</td>\n",
              "      <td>674.880005</td>\n",
              "      <td>53.240002</td>\n",
              "      <td>33.536285</td>\n",
              "      <td>30.774776</td>\n",
              "      <td>47.136101</td>\n",
              "      <td>62.302719</td>\n",
              "    </tr>\n",
              "  </tbody>\n",
              "</table>\n",
              "<p>374 rows × 10 columns</p>\n",
              "</div>"
            ],
            "text/plain": [
              "                                 tsla        meta        goog        amzn  \\\n",
              "Date                                                                        \n",
              "2023-01-03 00:00:00-05:00  108.099998  124.265312   89.378853   85.820000   \n",
              "2023-01-04 00:00:00-05:00  113.639999  126.885307   88.392395   85.139999   \n",
              "2023-01-05 00:00:00-05:00  110.339996  126.456940   86.459343   83.120003   \n",
              "2023-01-06 00:00:00-05:00  113.059998  129.525223   87.844376   86.080002   \n",
              "2023-01-09 00:00:00-05:00  119.769997  128.977310   88.482086   87.360001   \n",
              "...                               ...         ...         ...         ...   \n",
              "2024-06-24 00:00:00-04:00  182.580002  498.032776  180.347717  185.570007   \n",
              "2024-06-25 00:00:00-04:00  187.350006  509.702240  185.126007  186.339996   \n",
              "2024-06-26 00:00:00-04:00  196.369995  512.217773  184.916504  193.610001   \n",
              "2024-06-27 00:00:00-04:00  197.419998  518.646423  186.402878  197.850006   \n",
              "2024-06-28 00:00:00-04:00  197.880005  503.333435  182.971283  193.250000   \n",
              "\n",
              "                                 nflx       gbtc        gdx       intc  \\\n",
              "Date                                                                     \n",
              "2023-01-03 00:00:00-05:00  294.950012   8.200000  28.842234  25.775145   \n",
              "2023-01-04 00:00:00-05:00  309.410004   8.380000  30.067492  26.691208   \n",
              "2023-01-05 00:00:00-05:00  309.700012   8.450000  29.804937  26.575495   \n",
              "2023-01-06 00:00:00-05:00  315.549988   8.650000  30.689848  27.703703   \n",
              "2023-01-09 00:00:00-05:00  315.170013   9.650000  30.398119  28.262983   \n",
              "...                               ...        ...        ...        ...   \n",
              "2024-06-24 00:00:00-04:00  669.020020  52.610001  33.852570  30.377298   \n",
              "2024-06-25 00:00:00-04:00  672.409973  55.020000  33.447327  30.546227   \n",
              "2024-06-26 00:00:00-04:00  677.690002  54.130001  33.427559  30.347488   \n",
              "2024-06-27 00:00:00-04:00  684.340027  54.520000  33.832802  30.397173   \n",
              "2024-06-28 00:00:00-04:00  674.880005  53.240002  33.536285  30.774776   \n",
              "\n",
              "                                 dal          c  \n",
              "Date                                             \n",
              "2023-01-03 00:00:00-05:00  32.105251  42.188187  \n",
              "2023-01-04 00:00:00-05:00  33.857693  43.275604  \n",
              "2023-01-05 00:00:00-05:00  34.684696  43.082088  \n",
              "2023-01-06 00:00:00-05:00  35.472313  43.598145  \n",
              "2023-01-09 00:00:00-05:00  36.200859  43.810101  \n",
              "...                              ...        ...  \n",
              "2024-06-24 00:00:00-04:00  49.083549  60.221382  \n",
              "2024-06-25 00:00:00-04:00  48.497330  60.457005  \n",
              "2024-06-26 00:00:00-04:00  47.871361  60.133022  \n",
              "2024-06-27 00:00:00-04:00  48.288670  60.427547  \n",
              "2024-06-28 00:00:00-04:00  47.136101  62.302719  \n",
              "\n",
              "[374 rows x 10 columns]"
            ]
          },
          "execution_count": 13,
          "metadata": {},
          "output_type": "execute_result"
        }
      ],
      "source": [
        "X_train"
      ]
    },
    {
      "cell_type": "code",
      "execution_count": null,
      "id": "round-stadium",
      "metadata": {
        "id": "round-stadium",
        "outputId": "f87227d4-cbdc-463c-94cb-3428b676778e"
      },
      "outputs": [
        {
          "data": {
            "text/html": [
              "<div>\n",
              "<style scoped>\n",
              "    .dataframe tbody tr th:only-of-type {\n",
              "        vertical-align: middle;\n",
              "    }\n",
              "\n",
              "    .dataframe tbody tr th {\n",
              "        vertical-align: top;\n",
              "    }\n",
              "\n",
              "    .dataframe thead th {\n",
              "        text-align: right;\n",
              "    }\n",
              "</style>\n",
              "<table border=\"1\" class=\"dataframe\">\n",
              "  <thead>\n",
              "    <tr style=\"text-align: right;\">\n",
              "      <th></th>\n",
              "      <th>msft</th>\n",
              "    </tr>\n",
              "    <tr>\n",
              "      <th>Date</th>\n",
              "      <th></th>\n",
              "    </tr>\n",
              "  </thead>\n",
              "  <tbody>\n",
              "    <tr>\n",
              "      <th>2023-01-03 00:00:00-05:00</th>\n",
              "      <td>235.711700</td>\n",
              "    </tr>\n",
              "    <tr>\n",
              "      <th>2023-01-04 00:00:00-05:00</th>\n",
              "      <td>225.400925</td>\n",
              "    </tr>\n",
              "    <tr>\n",
              "      <th>2023-01-05 00:00:00-05:00</th>\n",
              "      <td>218.720551</td>\n",
              "    </tr>\n",
              "    <tr>\n",
              "      <th>2023-01-06 00:00:00-05:00</th>\n",
              "      <td>221.298233</td>\n",
              "    </tr>\n",
              "    <tr>\n",
              "      <th>2023-01-09 00:00:00-05:00</th>\n",
              "      <td>223.452896</td>\n",
              "    </tr>\n",
              "    <tr>\n",
              "      <th>...</th>\n",
              "      <td>...</td>\n",
              "    </tr>\n",
              "    <tr>\n",
              "      <th>2024-06-24 00:00:00-04:00</th>\n",
              "      <td>445.971924</td>\n",
              "    </tr>\n",
              "    <tr>\n",
              "      <th>2024-06-25 00:00:00-04:00</th>\n",
              "      <td>449.239441</td>\n",
              "    </tr>\n",
              "    <tr>\n",
              "      <th>2024-06-26 00:00:00-04:00</th>\n",
              "      <td>450.444855</td>\n",
              "    </tr>\n",
              "    <tr>\n",
              "      <th>2024-06-27 00:00:00-04:00</th>\n",
              "      <td>451.132233</td>\n",
              "    </tr>\n",
              "    <tr>\n",
              "      <th>2024-06-28 00:00:00-04:00</th>\n",
              "      <td>445.254639</td>\n",
              "    </tr>\n",
              "  </tbody>\n",
              "</table>\n",
              "<p>374 rows × 1 columns</p>\n",
              "</div>"
            ],
            "text/plain": [
              "                                 msft\n",
              "Date                                 \n",
              "2023-01-03 00:00:00-05:00  235.711700\n",
              "2023-01-04 00:00:00-05:00  225.400925\n",
              "2023-01-05 00:00:00-05:00  218.720551\n",
              "2023-01-06 00:00:00-05:00  221.298233\n",
              "2023-01-09 00:00:00-05:00  223.452896\n",
              "...                               ...\n",
              "2024-06-24 00:00:00-04:00  445.971924\n",
              "2024-06-25 00:00:00-04:00  449.239441\n",
              "2024-06-26 00:00:00-04:00  450.444855\n",
              "2024-06-27 00:00:00-04:00  451.132233\n",
              "2024-06-28 00:00:00-04:00  445.254639\n",
              "\n",
              "[374 rows x 1 columns]"
            ]
          },
          "execution_count": 14,
          "metadata": {},
          "output_type": "execute_result"
        }
      ],
      "source": [
        "y_train"
      ]
    },
    {
      "cell_type": "markdown",
      "id": "written-antibody",
      "metadata": {
        "id": "written-antibody"
      },
      "source": [
        "# Convert training and testing data into numpy array"
      ]
    },
    {
      "cell_type": "code",
      "execution_count": null,
      "id": "hired-findings",
      "metadata": {
        "id": "hired-findings"
      },
      "outputs": [],
      "source": [
        "import numpy as np\n",
        "\n",
        "X_train=np.array(X_train)\n",
        "y_train=np.array(y_train)\n",
        "X_test=np.array(X_test)\n",
        "y_test=np.array(y_test)\n"
      ]
    },
    {
      "cell_type": "markdown",
      "id": "helpful-metadata",
      "metadata": {
        "id": "helpful-metadata"
      },
      "source": [
        "# Use linear regression to predict msft stock price from the other stocks' prices"
      ]
    },
    {
      "cell_type": "markdown",
      "id": "southeast-equivalent",
      "metadata": {
        "id": "southeast-equivalent"
      },
      "source": [
        "## 1. Append a dummy feature to both X_train and X_test"
      ]
    },
    {
      "cell_type": "code",
      "execution_count": null,
      "id": "connected-nursing",
      "metadata": {
        "id": "connected-nursing"
      },
      "outputs": [],
      "source": [
        "# Your solution here\n"
      ]
    },
    {
      "cell_type": "markdown",
      "id": "romance-pharmaceutical",
      "metadata": {
        "id": "romance-pharmaceutical"
      },
      "source": [
        "## 2. Find the best linear regression model based on your training data ($w=(X X')^{-1} X y$)\n",
        "### Note that you may need to transpose the matrices to make things work\n",
        "\n"
      ]
    },
    {
      "cell_type": "code",
      "execution_count": null,
      "id": "emotional-vacation",
      "metadata": {
        "id": "emotional-vacation"
      },
      "outputs": [],
      "source": [
        "# Your solution here"
      ]
    },
    {
      "cell_type": "markdown",
      "id": "understood-vacation",
      "metadata": {
        "id": "understood-vacation"
      },
      "source": [
        "## 3. Report your training and testing error\n",
        "### How far your prediction from the actual price. Compute the mean square error for both training and testing"
      ]
    },
    {
      "cell_type": "code",
      "execution_count": null,
      "id": "crude-breeding",
      "metadata": {
        "id": "crude-breeding"
      },
      "outputs": [],
      "source": [
        "# Your solution here"
      ]
    },
    {
      "cell_type": "code",
      "execution_count": null,
      "id": "stainless-circuit",
      "metadata": {
        "id": "stainless-circuit"
      },
      "outputs": [],
      "source": []
    },
    {
      "cell_type": "code",
      "execution_count": null,
      "id": "sticky-portland",
      "metadata": {
        "id": "sticky-portland"
      },
      "outputs": [],
      "source": []
    }
  ],
  "metadata": {
    "kernelspec": {
      "display_name": "Python 3 (ipykernel)",
      "language": "python",
      "name": "python3"
    },
    "language_info": {
      "codemirror_mode": {
        "name": "ipython",
        "version": 3
      },
      "file_extension": ".py",
      "mimetype": "text/x-python",
      "name": "python",
      "nbconvert_exporter": "python",
      "pygments_lexer": "ipython3",
      "version": "3.10.12"
    },
    "colab": {
      "provenance": []
    }
  },
  "nbformat": 4,
  "nbformat_minor": 5
}